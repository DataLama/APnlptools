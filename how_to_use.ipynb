{
 "cells": [
  {
   "cell_type": "markdown",
   "metadata": {},
   "source": [
    "* 기본적으로 데이터는 list of dictionary 형태로 다룹니다.(json 형태)"
   ]
  },
  {
   "cell_type": "markdown",
   "metadata": {},
   "source": [
    "---"
   ]
  },
  {
   "cell_type": "markdown",
   "metadata": {},
   "source": [
    "# `DatasetFromS3`"
   ]
  },
  {
   "cell_type": "markdown",
   "metadata": {},
   "source": [
    "* ec2 또는 SageMaker의 local에 s3에 있는 데이터 셋을 가져올 때 사용.\n",
    "* 데이터를 로컬로 갖고오면, 데이터 전처리 과정에서 multiprocessing 활용 가능."
   ]
  },
  {
   "cell_type": "code",
   "execution_count": 1,
   "metadata": {},
   "outputs": [],
   "source": [
    "from nlptools import DatasetFromS3"
   ]
  },
  {
   "cell_type": "markdown",
   "metadata": {},
   "source": [
    "#### 인스턴스화\n",
    "\n",
    "* bucket - 다운로드 받고자 하는 s3 bucket.\n",
    "* directory - Directory on the s3."
   ]
  },
  {
   "cell_type": "code",
   "execution_count": 2,
   "metadata": {},
   "outputs": [],
   "source": [
    "data_downloader = DatasetFromS3(bucket='ap.nlp', directory='dataset/general_language')"
   ]
  },
  {
   "cell_type": "markdown",
   "metadata": {},
   "source": [
    "#### `.execute()`\n",
    "* local_dir - data를 저장할 local directory"
   ]
  },
  {
   "cell_type": "code",
   "execution_count": null,
   "metadata": {},
   "outputs": [],
   "source": [
    "data_downloader.execute(local_dir='dataset_raw')"
   ]
  },
  {
   "cell_type": "markdown",
   "metadata": {},
   "source": [
    "# `TextPreprocessor`"
   ]
  },
  {
   "cell_type": "markdown",
   "metadata": {},
   "source": [
    "* ec2 또는 SageMaker의 local에 s3에 있는 데이터 셋을 가져올 때 사용.\n",
    "* 데이터를 로컬로 갖고오면, 데이터 전처리 과정에서 multiprocessing 활용 가능."
   ]
  },
  {
   "cell_type": "code",
   "execution_count": 7,
   "metadata": {},
   "outputs": [],
   "source": [
    "from nlptools import TextPreprocessor, syn_dict # syn_dict은 동의어 사전."
   ]
  },
  {
   "cell_type": "markdown",
   "metadata": {},
   "source": [
    "#### 인스턴스화\n",
    "\n",
    "* loca_dir - 데이터셋이 존재하는 하위 directory\n",
    "* beaty - True(뷰티 단어 동의어 처리)/ False(미적용) $\\longrightarrow$ 근데 이거 제대로 적용되려면... custom-dict 필요.\n",
    "* sub_pos - True(의미론적으로 유의미한 품사만 추출)/ False(모든 품사 추출)"
   ]
  },
  {
   "cell_type": "code",
   "execution_count": 6,
   "metadata": {},
   "outputs": [],
   "source": [
    "textpreprocessor = TextPreprocessor(local_dir='dataset_raw', beauty=False, sub_pos=True)"
   ]
  },
  {
   "cell_type": "markdown",
   "metadata": {},
   "source": [
    "#### `.w2v_token_gen()`\n",
    "* workers - 전처리에 사용할 cpu thread의 수."
   ]
  },
  {
   "cell_type": "markdown",
   "metadata": {},
   "source": [
    "**output** : tokenized된 list of list형태의 generator"
   ]
  },
  {
   "cell_type": "code",
   "execution_count": null,
   "metadata": {},
   "outputs": [],
   "source": [
    "textpreprocessor.w2v_token_gen(workers=1)"
   ]
  }
 ],
 "metadata": {
  "kernelspec": {
   "display_name": "conda_python3",
   "language": "python",
   "name": "conda_python3"
  },
  "language_info": {
   "codemirror_mode": {
    "name": "ipython",
    "version": 3
   },
   "file_extension": ".py",
   "mimetype": "text/x-python",
   "name": "python",
   "nbconvert_exporter": "python",
   "pygments_lexer": "ipython3",
   "version": "3.6.5"
  }
 },
 "nbformat": 4,
 "nbformat_minor": 2
}
